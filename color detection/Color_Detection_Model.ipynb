{
  "nbformat": 4,
  "nbformat_minor": 0,
  "metadata": {
    "colab": {
      "provenance": [],
      "gpuType": "T4"
    },
    "kernelspec": {
      "name": "python3",
      "display_name": "Python 3"
    },
    "language_info": {
      "name": "python"
    },
    "gpuClass": "standard",
    "accelerator": "GPU"
  },
  "cells": [
    {
      "cell_type": "markdown",
      "source": [
        "# Proyek Deteksi Warna Pada Gambar\n",
        "Tujuan dari proyek ini adalah untuk membuat sebuah model yang dapat mendeteksi warna pada inputan gambar dari user, untuk warna yang ada berjumlah 15 karena dataset ini saya dapatkan dari platform [Kaggle](https://www.kaggle.com/datasets/adikurniawan/color-dataset-for-color-recognition) yang dimana di dalam dataset tersebut terdapat 10 folder dengan isi warna gambar masing-masing folder berjumlah 25, karena merasa kurang saya pun membuat sendiri mengambil gambar warna yang ada di google berjumlah 5 folder dengan masing-masing folder berisi 25 gambar."
      ],
      "metadata": {
        "id": "JSOH5vI4ojdy"
      }
    },
    {
      "cell_type": "markdown",
      "source": [
        "### 1. Setup"
      ],
      "metadata": {
        "id": "UKhA_PebqU8g"
      }
    },
    {
      "cell_type": "code",
      "execution_count": null,
      "metadata": {
        "id": "M7IhMVEhga7Y"
      },
      "outputs": [],
      "source": [
        "import tensorflow as tf"
      ]
    },
    {
      "cell_type": "code",
      "source": [
        "!pip install split_folders tqdm"
      ],
      "metadata": {
        "id": "6ziAk_G1iLA_",
        "colab": {
          "base_uri": "https://localhost:8080/"
        },
        "outputId": "417908b8-3158-46b8-bdfe-1745f197e218"
      },
      "execution_count": null,
      "outputs": [
        {
          "output_type": "stream",
          "name": "stdout",
          "text": [
            "Looking in indexes: https://pypi.org/simple, https://us-python.pkg.dev/colab-wheels/public/simple/\n",
            "Collecting split_folders\n",
            "  Downloading split_folders-0.5.1-py3-none-any.whl (8.4 kB)\n",
            "Requirement already satisfied: tqdm in /usr/local/lib/python3.10/dist-packages (4.65.0)\n",
            "Installing collected packages: split_folders\n",
            "Successfully installed split_folders-0.5.1\n"
          ]
        }
      ]
    },
    {
      "cell_type": "code",
      "source": [
        "import splitfolders\n",
        "\n",
        "splitfolders.ratio('/content/drive/MyDrive/Dataset/color_image', output='data', seed=3, ratio=(.8, .2))"
      ],
      "metadata": {
        "colab": {
          "base_uri": "https://localhost:8080/"
        },
        "id": "aF64-Fr-TRju",
        "outputId": "3ebbcd6b-288d-471c-8934-72df4b663af4"
      },
      "execution_count": null,
      "outputs": [
        {
          "output_type": "stream",
          "name": "stderr",
          "text": [
            "Copying files: 375 files [02:51,  2.18 files/s]\n"
          ]
        }
      ]
    },
    {
      "cell_type": "markdown",
      "source": [
        "1.1 Load data"
      ],
      "metadata": {
        "id": "I2fFFeP4T8Ks"
      }
    },
    {
      "cell_type": "code",
      "source": [
        "import os\n",
        "\n",
        "data = '/content/data'\n",
        "train_dir = os.path.join(data, 'train')\n",
        "validation_dir = os.path.join(data, 'val')"
      ],
      "metadata": {
        "id": "vWmqu13kT-6P"
      },
      "execution_count": null,
      "outputs": []
    },
    {
      "cell_type": "markdown",
      "source": [
        "### 2. Preprocess the data"
      ],
      "metadata": {
        "id": "aPN7JFlSSEqL"
      }
    },
    {
      "cell_type": "markdown",
      "source": [
        "2.1 Scale data"
      ],
      "metadata": {
        "id": "h0CCYom8Uu-L"
      }
    },
    {
      "cell_type": "code",
      "source": [
        "from tensorflow.keras.preprocessing.image import ImageDataGenerator                        \n",
        "\n",
        "training_datagen = ImageDataGenerator(                                           \n",
        "    rescale = 1./255,\n",
        "    zoom_range = 0.2,\n",
        "    rotation_range = 20,\n",
        "    shear_range = 0.2,\n",
        "    fill_mode = 'nearest'\n",
        ")"
      ],
      "metadata": {
        "id": "RCXfpKaU1Lxc"
      },
      "execution_count": null,
      "outputs": []
    },
    {
      "cell_type": "markdown",
      "source": [
        "2.2 Split data"
      ],
      "metadata": {
        "id": "WJIt7_ShVLxC"
      }
    },
    {
      "cell_type": "code",
      "source": [
        "train_generator = training_datagen.flow_from_directory(                           \n",
        "    train_dir, \n",
        "    target_size=(150, 150),\n",
        "    batch_size=8,\n",
        "    class_mode='categorical'\n",
        ")\n",
        "\n",
        "validation_generator = training_datagen.flow_from_directory( \n",
        "    validation_dir,\n",
        "    target_size=(150, 150),\n",
        "    batch_size=16, \n",
        "    class_mode='categorical'\n",
        ")"
      ],
      "metadata": {
        "id": "TN6HnVonkJmf",
        "colab": {
          "base_uri": "https://localhost:8080/"
        },
        "outputId": "a30e4e5e-06d6-4a58-c65e-9c2fc8e238dd"
      },
      "execution_count": null,
      "outputs": [
        {
          "output_type": "stream",
          "name": "stdout",
          "text": [
            "Found 300 images belonging to 15 classes.\n",
            "Found 75 images belonging to 15 classes.\n"
          ]
        }
      ]
    },
    {
      "cell_type": "markdown",
      "source": [
        "### 3. Bangun arsitektur model menggunakan CNN\n",
        "\n",
        "\n",
        "\n",
        "\n"
      ],
      "metadata": {
        "id": "esNFiMykrLix"
      }
    },
    {
      "cell_type": "code",
      "source": [
        "import tensorflow_hub as hub\n",
        "\n",
        "model = tf.keras.models.Sequential([\n",
        "    # hub.KerasLayer(\n",
        "    #     'https://tfhub.dev/tensorflow/efficientnet/lite0/feature-vector/2',\n",
        "    #     input_shape=(150, 150, 3),\n",
        "    #     trainable=False\n",
        "    # ),\n",
        "    tf.keras.layers.Conv2D(32, (3, 3), activation='relu', input_shape=(150, 150, 3)),\n",
        "    tf.keras.layers.MaxPooling2D((2, 2)),\n",
        "    tf.keras.layers.Conv2D(64, (3, 3), activation='relu'),\n",
        "    tf.keras.layers.MaxPooling2D((2, 2)),\n",
        "    tf.keras.layers.Conv2D(128, (3, 3), activation='relu'),\n",
        "    tf.keras.layers.MaxPooling2D((2, 2)),\n",
        "    tf.keras.layers.Flatten(),\n",
        "    # tf.keras.layers.Dropout(0.5),\n",
        "    # tf.keras.layers.Dense(512, activation='relu'),\n",
        "    # tf.keras.layers.Dense(256, activation='relu'),\n",
        "    tf.keras.layers.Dense(64, activation='relu'),\n",
        "    tf.keras.layers.Dense(15, activation='softmax') \n",
        "])"
      ],
      "metadata": {
        "id": "ut6z4kPRqqWb"
      },
      "execution_count": null,
      "outputs": []
    },
    {
      "cell_type": "code",
      "source": [
        "model.compile(optimizer='adam',\n",
        "              loss='categorical_crossentropy',\n",
        "              metrics=['accuracy'])"
      ],
      "metadata": {
        "id": "7QK8T-bircZr"
      },
      "execution_count": null,
      "outputs": []
    },
    {
      "cell_type": "code",
      "source": [
        "model.summary()"
      ],
      "metadata": {
        "id": "OoJU1iJ2ovXV",
        "colab": {
          "base_uri": "https://localhost:8080/"
        },
        "outputId": "2410f314-5f05-4bba-bf91-4a19ecd77ac3"
      },
      "execution_count": null,
      "outputs": [
        {
          "output_type": "stream",
          "name": "stdout",
          "text": [
            "Model: \"sequential\"\n",
            "_________________________________________________________________\n",
            " Layer (type)                Output Shape              Param #   \n",
            "=================================================================\n",
            " conv2d (Conv2D)             (None, 148, 148, 32)      896       \n",
            "                                                                 \n",
            " max_pooling2d (MaxPooling2D  (None, 74, 74, 32)       0         \n",
            " )                                                               \n",
            "                                                                 \n",
            " conv2d_1 (Conv2D)           (None, 72, 72, 64)        18496     \n",
            "                                                                 \n",
            " max_pooling2d_1 (MaxPooling  (None, 36, 36, 64)       0         \n",
            " 2D)                                                             \n",
            "                                                                 \n",
            " conv2d_2 (Conv2D)           (None, 34, 34, 128)       73856     \n",
            "                                                                 \n",
            " max_pooling2d_2 (MaxPooling  (None, 17, 17, 128)      0         \n",
            " 2D)                                                             \n",
            "                                                                 \n",
            " flatten (Flatten)           (None, 36992)             0         \n",
            "                                                                 \n",
            " dense (Dense)               (None, 64)                2367552   \n",
            "                                                                 \n",
            " dense_1 (Dense)             (None, 15)                975       \n",
            "                                                                 \n",
            "=================================================================\n",
            "Total params: 2,461,775\n",
            "Trainable params: 2,461,775\n",
            "Non-trainable params: 0\n",
            "_________________________________________________________________\n"
          ]
        }
      ]
    },
    {
      "cell_type": "markdown",
      "source": [
        "### 4. Latih Model"
      ],
      "metadata": {
        "id": "PSzvjH0DrojB"
      }
    },
    {
      "cell_type": "code",
      "source": [
        "class myCallback(tf.keras.callbacks.Callback):\n",
        "  def on_epoch_end(self, epoch, logs = {}):\n",
        "    if(logs.get('accuracy') > 0.90 and logs.get('val_accuracy') > 0.90):\n",
        "      print(\"\\nPELATIHAN BERHENTI, AKURASI MODEL SUDAH LEBIH DARI 90%!\")\n",
        "      self.model.stop_training = True\n",
        "\n",
        "callbacks = myCallback()"
      ],
      "metadata": {
        "id": "xUVucIp1tdUp"
      },
      "execution_count": null,
      "outputs": []
    },
    {
      "cell_type": "code",
      "source": [
        "history = model.fit(train_generator,\n",
        "    validation_data=validation_generator,\n",
        "    epochs=500,\n",
        "    verbose=2,\n",
        "    callbacks=[callbacks]\n",
        "  )"
      ],
      "metadata": {
        "id": "WfbG3ma4rxzn",
        "colab": {
          "base_uri": "https://localhost:8080/"
        },
        "outputId": "08b57584-19d2-4992-f6e7-12eb6f6afe87"
      },
      "execution_count": null,
      "outputs": [
        {
          "output_type": "stream",
          "name": "stdout",
          "text": [
            "Epoch 1/500\n"
          ]
        },
        {
          "output_type": "stream",
          "name": "stderr",
          "text": [
            "/usr/local/lib/python3.10/dist-packages/PIL/Image.py:975: UserWarning: Palette images with Transparency expressed in bytes should be converted to RGBA images\n",
            "  warnings.warn(\n"
          ]
        },
        {
          "output_type": "stream",
          "name": "stdout",
          "text": [
            "38/38 - 23s - loss: 2.1053 - accuracy: 0.3133 - val_loss: 1.7877 - val_accuracy: 0.4800 - 23s/epoch - 605ms/step\n",
            "Epoch 2/500\n",
            "38/38 - 5s - loss: 1.3073 - accuracy: 0.5500 - val_loss: 0.9482 - val_accuracy: 0.6667 - 5s/epoch - 139ms/step\n",
            "Epoch 3/500\n",
            "38/38 - 4s - loss: 1.2947 - accuracy: 0.5367 - val_loss: 1.0861 - val_accuracy: 0.5467 - 4s/epoch - 97ms/step\n",
            "Epoch 4/500\n",
            "38/38 - 4s - loss: 0.9482 - accuracy: 0.6067 - val_loss: 0.8697 - val_accuracy: 0.6133 - 4s/epoch - 97ms/step\n",
            "Epoch 5/500\n",
            "38/38 - 5s - loss: 0.9004 - accuracy: 0.6167 - val_loss: 0.9015 - val_accuracy: 0.6800 - 5s/epoch - 137ms/step\n",
            "Epoch 6/500\n",
            "38/38 - 4s - loss: 0.8467 - accuracy: 0.6633 - val_loss: 0.7825 - val_accuracy: 0.7067 - 4s/epoch - 96ms/step\n",
            "Epoch 7/500\n",
            "38/38 - 5s - loss: 0.6762 - accuracy: 0.7300 - val_loss: 0.7484 - val_accuracy: 0.7067 - 5s/epoch - 133ms/step\n",
            "Epoch 8/500\n",
            "38/38 - 4s - loss: 0.6906 - accuracy: 0.7267 - val_loss: 0.7764 - val_accuracy: 0.6800 - 4s/epoch - 98ms/step\n",
            "Epoch 9/500\n",
            "38/38 - 4s - loss: 0.6900 - accuracy: 0.7033 - val_loss: 0.8446 - val_accuracy: 0.7200 - 4s/epoch - 97ms/step\n",
            "Epoch 10/500\n",
            "38/38 - 5s - loss: 1.0364 - accuracy: 0.6633 - val_loss: 0.8900 - val_accuracy: 0.6400 - 5s/epoch - 141ms/step\n",
            "Epoch 11/500\n",
            "38/38 - 4s - loss: 0.7869 - accuracy: 0.6967 - val_loss: 0.7168 - val_accuracy: 0.7733 - 4s/epoch - 96ms/step\n",
            "Epoch 12/500\n",
            "38/38 - 5s - loss: 0.6595 - accuracy: 0.7367 - val_loss: 0.6776 - val_accuracy: 0.7467 - 5s/epoch - 128ms/step\n",
            "Epoch 13/500\n",
            "38/38 - 4s - loss: 0.5520 - accuracy: 0.7900 - val_loss: 0.8268 - val_accuracy: 0.6933 - 4s/epoch - 97ms/step\n",
            "Epoch 14/500\n",
            "38/38 - 4s - loss: 0.5895 - accuracy: 0.7333 - val_loss: 0.9039 - val_accuracy: 0.6533 - 4s/epoch - 97ms/step\n",
            "Epoch 15/500\n",
            "38/38 - 6s - loss: 0.7794 - accuracy: 0.7167 - val_loss: 0.7563 - val_accuracy: 0.6933 - 6s/epoch - 160ms/step\n",
            "Epoch 16/500\n",
            "38/38 - 5s - loss: 0.5974 - accuracy: 0.7267 - val_loss: 0.5965 - val_accuracy: 0.7733 - 5s/epoch - 120ms/step\n",
            "Epoch 17/500\n",
            "38/38 - 5s - loss: 0.6518 - accuracy: 0.7200 - val_loss: 0.9317 - val_accuracy: 0.6667 - 5s/epoch - 139ms/step\n",
            "Epoch 18/500\n",
            "38/38 - 4s - loss: 0.7427 - accuracy: 0.6967 - val_loss: 0.9289 - val_accuracy: 0.6800 - 4s/epoch - 96ms/step\n",
            "Epoch 19/500\n",
            "38/38 - 4s - loss: 0.5777 - accuracy: 0.7267 - val_loss: 0.6308 - val_accuracy: 0.7467 - 4s/epoch - 99ms/step\n",
            "Epoch 20/500\n",
            "38/38 - 5s - loss: 0.4869 - accuracy: 0.8167 - val_loss: 0.7067 - val_accuracy: 0.7733 - 5s/epoch - 141ms/step\n",
            "Epoch 21/500\n",
            "38/38 - 4s - loss: 0.5948 - accuracy: 0.7567 - val_loss: 0.6288 - val_accuracy: 0.7200 - 4s/epoch - 97ms/step\n",
            "Epoch 22/500\n",
            "38/38 - 4s - loss: 0.4364 - accuracy: 0.8067 - val_loss: 0.6354 - val_accuracy: 0.7467 - 4s/epoch - 113ms/step\n",
            "Epoch 23/500\n",
            "38/38 - 4s - loss: 0.4150 - accuracy: 0.7900 - val_loss: 0.6437 - val_accuracy: 0.7467 - 4s/epoch - 111ms/step\n",
            "Epoch 24/500\n",
            "38/38 - 4s - loss: 0.5262 - accuracy: 0.7567 - val_loss: 0.5467 - val_accuracy: 0.7867 - 4s/epoch - 96ms/step\n",
            "Epoch 25/500\n",
            "38/38 - 5s - loss: 0.4704 - accuracy: 0.8000 - val_loss: 0.5977 - val_accuracy: 0.8000 - 5s/epoch - 140ms/step\n",
            "Epoch 26/500\n",
            "38/38 - 4s - loss: 0.5072 - accuracy: 0.8033 - val_loss: 0.6298 - val_accuracy: 0.7333 - 4s/epoch - 112ms/step\n",
            "Epoch 27/500\n",
            "38/38 - 4s - loss: 0.4809 - accuracy: 0.8233 - val_loss: 0.5349 - val_accuracy: 0.8133 - 4s/epoch - 97ms/step\n",
            "Epoch 28/500\n",
            "38/38 - 5s - loss: 0.4490 - accuracy: 0.8167 - val_loss: 0.7854 - val_accuracy: 0.7333 - 5s/epoch - 126ms/step\n",
            "Epoch 29/500\n",
            "38/38 - 4s - loss: 0.5591 - accuracy: 0.7733 - val_loss: 0.7951 - val_accuracy: 0.6933 - 4s/epoch - 96ms/step\n",
            "Epoch 30/500\n",
            "38/38 - 4s - loss: 0.5203 - accuracy: 0.7867 - val_loss: 0.5956 - val_accuracy: 0.8133 - 4s/epoch - 97ms/step\n",
            "Epoch 31/500\n",
            "38/38 - 5s - loss: 0.4197 - accuracy: 0.8200 - val_loss: 0.7434 - val_accuracy: 0.7867 - 5s/epoch - 123ms/step\n",
            "Epoch 32/500\n",
            "38/38 - 4s - loss: 0.4983 - accuracy: 0.7933 - val_loss: 0.7504 - val_accuracy: 0.7333 - 4s/epoch - 96ms/step\n",
            "Epoch 33/500\n",
            "38/38 - 4s - loss: 0.5282 - accuracy: 0.7833 - val_loss: 0.4797 - val_accuracy: 0.8400 - 4s/epoch - 112ms/step\n",
            "Epoch 34/500\n",
            "38/38 - 4s - loss: 0.7946 - accuracy: 0.7600 - val_loss: 1.3326 - val_accuracy: 0.6800 - 4s/epoch - 110ms/step\n",
            "Epoch 35/500\n",
            "38/38 - 4s - loss: 0.6923 - accuracy: 0.7467 - val_loss: 0.6574 - val_accuracy: 0.7600 - 4s/epoch - 95ms/step\n",
            "Epoch 36/500\n",
            "38/38 - 5s - loss: 0.5754 - accuracy: 0.7533 - val_loss: 0.6196 - val_accuracy: 0.7733 - 5s/epoch - 129ms/step\n",
            "Epoch 37/500\n",
            "38/38 - 4s - loss: 0.4973 - accuracy: 0.8167 - val_loss: 0.4631 - val_accuracy: 0.8133 - 4s/epoch - 102ms/step\n",
            "Epoch 38/500\n",
            "38/38 - 4s - loss: 0.3931 - accuracy: 0.8267 - val_loss: 0.4616 - val_accuracy: 0.8533 - 4s/epoch - 97ms/step\n",
            "Epoch 39/500\n",
            "38/38 - 5s - loss: 0.5324 - accuracy: 0.8100 - val_loss: 1.2159 - val_accuracy: 0.6267 - 5s/epoch - 136ms/step\n",
            "Epoch 40/500\n",
            "38/38 - 4s - loss: 0.8661 - accuracy: 0.7067 - val_loss: 0.6036 - val_accuracy: 0.7867 - 4s/epoch - 95ms/step\n",
            "Epoch 41/500\n",
            "38/38 - 5s - loss: 0.5817 - accuracy: 0.7733 - val_loss: 0.7923 - val_accuracy: 0.7333 - 5s/epoch - 140ms/step\n",
            "Epoch 42/500\n",
            "38/38 - 4s - loss: 0.4909 - accuracy: 0.8100 - val_loss: 0.7755 - val_accuracy: 0.7467 - 4s/epoch - 96ms/step\n",
            "Epoch 43/500\n",
            "38/38 - 5s - loss: 0.4741 - accuracy: 0.7867 - val_loss: 0.5571 - val_accuracy: 0.8400 - 5s/epoch - 137ms/step\n",
            "Epoch 44/500\n",
            "38/38 - 4s - loss: 0.4625 - accuracy: 0.7900 - val_loss: 0.4455 - val_accuracy: 0.7733 - 4s/epoch - 100ms/step\n",
            "Epoch 45/500\n",
            "38/38 - 5s - loss: 0.4629 - accuracy: 0.8067 - val_loss: 0.4825 - val_accuracy: 0.8400 - 5s/epoch - 135ms/step\n",
            "Epoch 46/500\n",
            "38/38 - 4s - loss: 0.4349 - accuracy: 0.8133 - val_loss: 0.4829 - val_accuracy: 0.7733 - 4s/epoch - 98ms/step\n",
            "Epoch 47/500\n",
            "38/38 - 4s - loss: 0.4498 - accuracy: 0.8067 - val_loss: 0.4582 - val_accuracy: 0.7600 - 4s/epoch - 96ms/step\n",
            "Epoch 48/500\n",
            "38/38 - 5s - loss: 0.3736 - accuracy: 0.8500 - val_loss: 0.5126 - val_accuracy: 0.8000 - 5s/epoch - 129ms/step\n",
            "Epoch 49/500\n",
            "38/38 - 4s - loss: 0.5436 - accuracy: 0.7633 - val_loss: 0.6674 - val_accuracy: 0.7733 - 4s/epoch - 97ms/step\n",
            "Epoch 50/500\n",
            "38/38 - 4s - loss: 0.4703 - accuracy: 0.7767 - val_loss: 0.4214 - val_accuracy: 0.8133 - 4s/epoch - 112ms/step\n",
            "Epoch 51/500\n",
            "38/38 - 4s - loss: 0.3656 - accuracy: 0.8233 - val_loss: 0.5601 - val_accuracy: 0.7733 - 4s/epoch - 104ms/step\n",
            "Epoch 52/500\n",
            "38/38 - 4s - loss: 0.4164 - accuracy: 0.7733 - val_loss: 0.7336 - val_accuracy: 0.7733 - 4s/epoch - 96ms/step\n",
            "Epoch 53/500\n",
            "38/38 - 5s - loss: 0.4499 - accuracy: 0.8100 - val_loss: 0.4957 - val_accuracy: 0.8133 - 5s/epoch - 131ms/step\n",
            "Epoch 54/500\n",
            "38/38 - 4s - loss: 0.3595 - accuracy: 0.8467 - val_loss: 0.4590 - val_accuracy: 0.7867 - 4s/epoch - 103ms/step\n",
            "Epoch 55/500\n",
            "38/38 - 4s - loss: 0.4180 - accuracy: 0.8100 - val_loss: 0.4919 - val_accuracy: 0.8133 - 4s/epoch - 95ms/step\n",
            "Epoch 56/500\n",
            "38/38 - 5s - loss: 0.3702 - accuracy: 0.8300 - val_loss: 0.4288 - val_accuracy: 0.8933 - 5s/epoch - 141ms/step\n",
            "Epoch 57/500\n",
            "38/38 - 4s - loss: 0.4045 - accuracy: 0.8400 - val_loss: 0.5830 - val_accuracy: 0.7867 - 4s/epoch - 96ms/step\n",
            "Epoch 58/500\n",
            "38/38 - 5s - loss: 0.3874 - accuracy: 0.8133 - val_loss: 0.4144 - val_accuracy: 0.8533 - 5s/epoch - 135ms/step\n",
            "Epoch 59/500\n",
            "38/38 - 4s - loss: 0.3224 - accuracy: 0.8533 - val_loss: 0.3951 - val_accuracy: 0.8533 - 4s/epoch - 111ms/step\n",
            "Epoch 60/500\n",
            "38/38 - 5s - loss: 0.3522 - accuracy: 0.8167 - val_loss: 0.5338 - val_accuracy: 0.7600 - 5s/epoch - 125ms/step\n",
            "Epoch 61/500\n",
            "38/38 - 4s - loss: 0.3505 - accuracy: 0.8567 - val_loss: 0.5224 - val_accuracy: 0.7867 - 4s/epoch - 95ms/step\n",
            "Epoch 62/500\n",
            "38/38 - 4s - loss: 0.3823 - accuracy: 0.8467 - val_loss: 0.4232 - val_accuracy: 0.8533 - 4s/epoch - 108ms/step\n",
            "Epoch 63/500\n",
            "38/38 - 6s - loss: 0.3987 - accuracy: 0.8400 - val_loss: 0.4476 - val_accuracy: 0.8667 - 6s/epoch - 149ms/step\n",
            "Epoch 64/500\n",
            "38/38 - 4s - loss: 0.3326 - accuracy: 0.8667 - val_loss: 0.4320 - val_accuracy: 0.8533 - 4s/epoch - 97ms/step\n",
            "Epoch 65/500\n",
            "38/38 - 5s - loss: 0.4710 - accuracy: 0.8100 - val_loss: 0.5509 - val_accuracy: 0.8267 - 5s/epoch - 139ms/step\n",
            "Epoch 66/500\n",
            "38/38 - 4s - loss: 0.4485 - accuracy: 0.7933 - val_loss: 0.6718 - val_accuracy: 0.8400 - 4s/epoch - 96ms/step\n",
            "Epoch 67/500\n",
            "38/38 - 5s - loss: 0.4526 - accuracy: 0.8067 - val_loss: 0.6159 - val_accuracy: 0.7733 - 5s/epoch - 138ms/step\n",
            "Epoch 68/500\n",
            "38/38 - 4s - loss: 0.7410 - accuracy: 0.7800 - val_loss: 0.5897 - val_accuracy: 0.8133 - 4s/epoch - 95ms/step\n",
            "Epoch 69/500\n",
            "38/38 - 5s - loss: 0.4078 - accuracy: 0.8100 - val_loss: 0.4406 - val_accuracy: 0.8133 - 5s/epoch - 130ms/step\n",
            "Epoch 70/500\n",
            "38/38 - 4s - loss: 0.4148 - accuracy: 0.8067 - val_loss: 0.3743 - val_accuracy: 0.8400 - 4s/epoch - 96ms/step\n",
            "Epoch 71/500\n",
            "38/38 - 4s - loss: 0.3859 - accuracy: 0.8067 - val_loss: 0.4598 - val_accuracy: 0.8267 - 4s/epoch - 94ms/step\n",
            "Epoch 72/500\n",
            "38/38 - 5s - loss: 0.3716 - accuracy: 0.8233 - val_loss: 0.4269 - val_accuracy: 0.8533 - 5s/epoch - 124ms/step\n",
            "Epoch 73/500\n",
            "38/38 - 4s - loss: 0.4381 - accuracy: 0.8133 - val_loss: 0.6562 - val_accuracy: 0.7867 - 4s/epoch - 95ms/step\n",
            "Epoch 74/500\n",
            "38/38 - 4s - loss: 0.4767 - accuracy: 0.8267 - val_loss: 0.5792 - val_accuracy: 0.8267 - 4s/epoch - 93ms/step\n",
            "Epoch 75/500\n",
            "38/38 - 4s - loss: 0.3988 - accuracy: 0.8433 - val_loss: 0.5679 - val_accuracy: 0.7733 - 4s/epoch - 109ms/step\n",
            "Epoch 76/500\n",
            "38/38 - 4s - loss: 0.5346 - accuracy: 0.8067 - val_loss: 0.6020 - val_accuracy: 0.7867 - 4s/epoch - 95ms/step\n",
            "Epoch 77/500\n",
            "38/38 - 5s - loss: 0.6811 - accuracy: 0.8100 - val_loss: 0.5848 - val_accuracy: 0.8133 - 5s/epoch - 139ms/step\n",
            "Epoch 78/500\n",
            "38/38 - 4s - loss: 0.4355 - accuracy: 0.8233 - val_loss: 0.4585 - val_accuracy: 0.8800 - 4s/epoch - 96ms/step\n",
            "Epoch 79/500\n",
            "38/38 - 5s - loss: 0.3363 - accuracy: 0.8467 - val_loss: 0.4390 - val_accuracy: 0.8000 - 5s/epoch - 130ms/step\n",
            "Epoch 80/500\n",
            "38/38 - 4s - loss: 0.4543 - accuracy: 0.8167 - val_loss: 0.6364 - val_accuracy: 0.7200 - 4s/epoch - 95ms/step\n",
            "Epoch 81/500\n",
            "38/38 - 4s - loss: 0.4425 - accuracy: 0.8200 - val_loss: 0.4517 - val_accuracy: 0.8667 - 4s/epoch - 96ms/step\n",
            "Epoch 82/500\n",
            "38/38 - 5s - loss: 0.5274 - accuracy: 0.8067 - val_loss: 0.6943 - val_accuracy: 0.7200 - 5s/epoch - 124ms/step\n",
            "Epoch 83/500\n",
            "38/38 - 4s - loss: 0.6558 - accuracy: 0.7467 - val_loss: 0.5734 - val_accuracy: 0.8000 - 4s/epoch - 94ms/step\n",
            "Epoch 84/500\n",
            "38/38 - 5s - loss: 0.4469 - accuracy: 0.8133 - val_loss: 0.5494 - val_accuracy: 0.7600 - 5s/epoch - 124ms/step\n",
            "Epoch 85/500\n",
            "38/38 - 4s - loss: 0.3342 - accuracy: 0.8467 - val_loss: 0.3548 - val_accuracy: 0.8667 - 4s/epoch - 100ms/step\n",
            "Epoch 86/500\n",
            "38/38 - 4s - loss: 0.3441 - accuracy: 0.8633 - val_loss: 0.4141 - val_accuracy: 0.8533 - 4s/epoch - 95ms/step\n",
            "Epoch 87/500\n",
            "38/38 - 4s - loss: 0.3269 - accuracy: 0.8467 - val_loss: 0.3277 - val_accuracy: 0.9067 - 4s/epoch - 103ms/step\n",
            "Epoch 88/500\n",
            "38/38 - 4s - loss: 0.3338 - accuracy: 0.8633 - val_loss: 0.4217 - val_accuracy: 0.8133 - 4s/epoch - 107ms/step\n",
            "Epoch 89/500\n",
            "38/38 - 4s - loss: 0.3030 - accuracy: 0.8567 - val_loss: 0.3659 - val_accuracy: 0.8933 - 4s/epoch - 96ms/step\n",
            "Epoch 90/500\n",
            "38/38 - 4s - loss: 0.3165 - accuracy: 0.8467 - val_loss: 0.4393 - val_accuracy: 0.8133 - 4s/epoch - 111ms/step\n",
            "Epoch 91/500\n",
            "38/38 - 5s - loss: 0.3178 - accuracy: 0.8667 - val_loss: 0.3866 - val_accuracy: 0.7867 - 5s/epoch - 123ms/step\n",
            "Epoch 92/500\n",
            "38/38 - 4s - loss: 0.3358 - accuracy: 0.8433 - val_loss: 0.4035 - val_accuracy: 0.8667 - 4s/epoch - 95ms/step\n",
            "Epoch 93/500\n",
            "38/38 - 4s - loss: 0.3804 - accuracy: 0.8400 - val_loss: 0.4486 - val_accuracy: 0.8400 - 4s/epoch - 118ms/step\n",
            "Epoch 94/500\n",
            "38/38 - 4s - loss: 0.3554 - accuracy: 0.8300 - val_loss: 0.4941 - val_accuracy: 0.8533 - 4s/epoch - 103ms/step\n",
            "Epoch 95/500\n",
            "38/38 - 4s - loss: 0.3680 - accuracy: 0.8367 - val_loss: 0.6270 - val_accuracy: 0.7600 - 4s/epoch - 95ms/step\n",
            "Epoch 96/500\n",
            "38/38 - 5s - loss: 0.3116 - accuracy: 0.8500 - val_loss: 0.3948 - val_accuracy: 0.8533 - 5s/epoch - 137ms/step\n",
            "Epoch 97/500\n",
            "38/38 - 4s - loss: 0.3432 - accuracy: 0.8700 - val_loss: 0.4984 - val_accuracy: 0.8267 - 4s/epoch - 96ms/step\n",
            "Epoch 98/500\n",
            "38/38 - 4s - loss: 0.3011 - accuracy: 0.8633 - val_loss: 0.4701 - val_accuracy: 0.8667 - 4s/epoch - 95ms/step\n",
            "Epoch 99/500\n",
            "38/38 - 5s - loss: 0.3150 - accuracy: 0.8533 - val_loss: 0.4236 - val_accuracy: 0.8667 - 5s/epoch - 138ms/step\n",
            "Epoch 100/500\n",
            "38/38 - 4s - loss: 0.2678 - accuracy: 0.8800 - val_loss: 0.4585 - val_accuracy: 0.8267 - 4s/epoch - 95ms/step\n",
            "Epoch 101/500\n",
            "38/38 - 5s - loss: 0.3940 - accuracy: 0.8267 - val_loss: 0.8815 - val_accuracy: 0.7733 - 5s/epoch - 139ms/step\n",
            "Epoch 102/500\n",
            "38/38 - 4s - loss: 0.4514 - accuracy: 0.8167 - val_loss: 0.8107 - val_accuracy: 0.7867 - 4s/epoch - 94ms/step\n",
            "Epoch 103/500\n",
            "38/38 - 5s - loss: 0.3963 - accuracy: 0.8500 - val_loss: 0.6470 - val_accuracy: 0.8000 - 5s/epoch - 135ms/step\n",
            "Epoch 104/500\n",
            "38/38 - 4s - loss: 0.4201 - accuracy: 0.7900 - val_loss: 0.3573 - val_accuracy: 0.8533 - 4s/epoch - 113ms/step\n",
            "Epoch 105/500\n",
            "38/38 - 5s - loss: 0.2927 - accuracy: 0.8833 - val_loss: 0.3788 - val_accuracy: 0.8800 - 5s/epoch - 123ms/step\n",
            "Epoch 106/500\n",
            "38/38 - 4s - loss: 0.3319 - accuracy: 0.8533 - val_loss: 0.3899 - val_accuracy: 0.8533 - 4s/epoch - 95ms/step\n",
            "Epoch 107/500\n",
            "38/38 - 4s - loss: 0.3394 - accuracy: 0.8667 - val_loss: 0.4615 - val_accuracy: 0.8667 - 4s/epoch - 116ms/step\n",
            "Epoch 108/500\n",
            "38/38 - 4s - loss: 0.3340 - accuracy: 0.8533 - val_loss: 0.3542 - val_accuracy: 0.8667 - 4s/epoch - 118ms/step\n",
            "Epoch 109/500\n",
            "38/38 - 4s - loss: 0.3212 - accuracy: 0.8400 - val_loss: 0.3674 - val_accuracy: 0.8800 - 4s/epoch - 96ms/step\n",
            "Epoch 110/500\n",
            "38/38 - 5s - loss: 0.3240 - accuracy: 0.8467 - val_loss: 0.6202 - val_accuracy: 0.7733 - 5s/epoch - 131ms/step\n",
            "Epoch 111/500\n",
            "38/38 - 4s - loss: 0.3572 - accuracy: 0.8367 - val_loss: 0.4451 - val_accuracy: 0.8400 - 4s/epoch - 113ms/step\n",
            "Epoch 112/500\n",
            "38/38 - 5s - loss: 0.2705 - accuracy: 0.8800 - val_loss: 0.3835 - val_accuracy: 0.8800 - 5s/epoch - 123ms/step\n",
            "Epoch 113/500\n",
            "38/38 - 5s - loss: 0.4104 - accuracy: 0.8433 - val_loss: 0.9961 - val_accuracy: 0.7067 - 5s/epoch - 135ms/step\n",
            "Epoch 114/500\n",
            "38/38 - 4s - loss: 0.5207 - accuracy: 0.8100 - val_loss: 0.6184 - val_accuracy: 0.7600 - 4s/epoch - 93ms/step\n",
            "Epoch 115/500\n",
            "38/38 - 5s - loss: 0.3744 - accuracy: 0.8167 - val_loss: 0.5119 - val_accuracy: 0.8400 - 5s/epoch - 130ms/step\n",
            "Epoch 116/500\n",
            "38/38 - 4s - loss: 0.3340 - accuracy: 0.8400 - val_loss: 0.3815 - val_accuracy: 0.8667 - 4s/epoch - 99ms/step\n",
            "Epoch 117/500\n",
            "38/38 - 4s - loss: 0.3270 - accuracy: 0.8433 - val_loss: 0.4724 - val_accuracy: 0.7867 - 4s/epoch - 94ms/step\n",
            "Epoch 118/500\n",
            "38/38 - 5s - loss: 0.3973 - accuracy: 0.8300 - val_loss: 0.5189 - val_accuracy: 0.8667 - 5s/epoch - 139ms/step\n",
            "Epoch 119/500\n",
            "38/38 - 4s - loss: 0.3177 - accuracy: 0.8433 - val_loss: 0.4949 - val_accuracy: 0.7733 - 4s/epoch - 95ms/step\n",
            "Epoch 120/500\n",
            "38/38 - 5s - loss: 0.2684 - accuracy: 0.8833 - val_loss: 0.5628 - val_accuracy: 0.8133 - 5s/epoch - 136ms/step\n",
            "Epoch 121/500\n",
            "38/38 - 4s - loss: 0.2543 - accuracy: 0.8767 - val_loss: 0.5013 - val_accuracy: 0.8533 - 4s/epoch - 96ms/step\n",
            "Epoch 122/500\n",
            "38/38 - 4s - loss: 0.2885 - accuracy: 0.8633 - val_loss: 0.4673 - val_accuracy: 0.8400 - 4s/epoch - 95ms/step\n",
            "Epoch 123/500\n",
            "38/38 - 4s - loss: 0.3509 - accuracy: 0.8633 - val_loss: 0.5096 - val_accuracy: 0.8933 - 4s/epoch - 117ms/step\n",
            "Epoch 124/500\n",
            "38/38 - 4s - loss: 0.2793 - accuracy: 0.8867 - val_loss: 0.5395 - val_accuracy: 0.8400 - 4s/epoch - 103ms/step\n",
            "Epoch 125/500\n",
            "38/38 - 4s - loss: 0.3246 - accuracy: 0.8767 - val_loss: 0.7337 - val_accuracy: 0.7467 - 4s/epoch - 95ms/step\n",
            "Epoch 126/500\n",
            "38/38 - 4s - loss: 0.4428 - accuracy: 0.8633 - val_loss: 0.6595 - val_accuracy: 0.8000 - 4s/epoch - 100ms/step\n",
            "Epoch 127/500\n",
            "38/38 - 4s - loss: 0.7887 - accuracy: 0.7900 - val_loss: 0.6011 - val_accuracy: 0.8000 - 4s/epoch - 107ms/step\n",
            "Epoch 128/500\n",
            "38/38 - 4s - loss: 0.3813 - accuracy: 0.8467 - val_loss: 0.4388 - val_accuracy: 0.9067 - 4s/epoch - 96ms/step\n",
            "Epoch 129/500\n",
            "38/38 - 5s - loss: 0.3918 - accuracy: 0.8767 - val_loss: 1.3410 - val_accuracy: 0.7733 - 5s/epoch - 138ms/step\n",
            "Epoch 130/500\n",
            "38/38 - 4s - loss: 0.7717 - accuracy: 0.8000 - val_loss: 0.5329 - val_accuracy: 0.8000 - 4s/epoch - 97ms/step\n",
            "Epoch 131/500\n",
            "38/38 - 4s - loss: 0.2968 - accuracy: 0.8533 - val_loss: 0.3947 - val_accuracy: 0.8667 - 4s/epoch - 95ms/step\n",
            "Epoch 132/500\n",
            "38/38 - 5s - loss: 0.3598 - accuracy: 0.8633 - val_loss: 0.4329 - val_accuracy: 0.8800 - 5s/epoch - 137ms/step\n",
            "Epoch 133/500\n",
            "38/38 - 4s - loss: 0.6494 - accuracy: 0.8100 - val_loss: 1.2431 - val_accuracy: 0.7200 - 4s/epoch - 95ms/step\n",
            "Epoch 134/500\n",
            "38/38 - 4s - loss: 0.6711 - accuracy: 0.7667 - val_loss: 1.1619 - val_accuracy: 0.8667 - 4s/epoch - 96ms/step\n",
            "Epoch 135/500\n",
            "38/38 - 5s - loss: 0.4588 - accuracy: 0.8500 - val_loss: 1.1323 - val_accuracy: 0.6667 - 5s/epoch - 128ms/step\n",
            "Epoch 136/500\n",
            "38/38 - 4s - loss: 0.4584 - accuracy: 0.8233 - val_loss: 0.3972 - val_accuracy: 0.8533 - 4s/epoch - 100ms/step\n",
            "Epoch 137/500\n",
            "38/38 - 4s - loss: 0.4505 - accuracy: 0.8367 - val_loss: 0.5783 - val_accuracy: 0.8267 - 4s/epoch - 95ms/step\n",
            "Epoch 138/500\n",
            "38/38 - 5s - loss: 0.4124 - accuracy: 0.8067 - val_loss: 0.6305 - val_accuracy: 0.8133 - 5s/epoch - 138ms/step\n",
            "Epoch 139/500\n",
            "38/38 - 4s - loss: 0.3858 - accuracy: 0.8333 - val_loss: 0.4011 - val_accuracy: 0.8667 - 4s/epoch - 95ms/step\n",
            "Epoch 140/500\n",
            "38/38 - 4s - loss: 0.3144 - accuracy: 0.8433 - val_loss: 0.4785 - val_accuracy: 0.8933 - 4s/epoch - 115ms/step\n",
            "Epoch 141/500\n",
            "38/38 - 4s - loss: 0.3806 - accuracy: 0.8500 - val_loss: 0.3677 - val_accuracy: 0.8933 - 4s/epoch - 94ms/step\n",
            "Epoch 142/500\n",
            "38/38 - 4s - loss: 0.4368 - accuracy: 0.8133 - val_loss: 0.4408 - val_accuracy: 0.8667 - 4s/epoch - 110ms/step\n",
            "Epoch 143/500\n",
            "38/38 - 5s - loss: 0.3269 - accuracy: 0.8700 - val_loss: 0.4518 - val_accuracy: 0.8800 - 5s/epoch - 122ms/step\n",
            "Epoch 144/500\n",
            "38/38 - 4s - loss: 0.3187 - accuracy: 0.8733 - val_loss: 0.5431 - val_accuracy: 0.8133 - 4s/epoch - 95ms/step\n",
            "Epoch 145/500\n",
            "38/38 - 5s - loss: 0.3378 - accuracy: 0.8500 - val_loss: 0.3433 - val_accuracy: 0.9200 - 5s/epoch - 122ms/step\n",
            "Epoch 146/500\n",
            "38/38 - 4s - loss: 0.3209 - accuracy: 0.8667 - val_loss: 0.3538 - val_accuracy: 0.9067 - 4s/epoch - 113ms/step\n",
            "Epoch 147/500\n",
            "38/38 - 4s - loss: 0.2533 - accuracy: 0.8800 - val_loss: 0.4633 - val_accuracy: 0.8533 - 4s/epoch - 95ms/step\n",
            "Epoch 148/500\n",
            "38/38 - 5s - loss: 0.2717 - accuracy: 0.8733 - val_loss: 0.5550 - val_accuracy: 0.8000 - 5s/epoch - 128ms/step\n",
            "Epoch 149/500\n",
            "38/38 - 4s - loss: 0.3210 - accuracy: 0.8700 - val_loss: 0.4255 - val_accuracy: 0.8400 - 4s/epoch - 105ms/step\n",
            "Epoch 150/500\n",
            "38/38 - 4s - loss: 0.2703 - accuracy: 0.8800 - val_loss: 0.5178 - val_accuracy: 0.8133 - 4s/epoch - 96ms/step\n",
            "Epoch 151/500\n",
            "38/38 - 4s - loss: 0.4375 - accuracy: 0.8300 - val_loss: 0.3740 - val_accuracy: 0.8533 - 4s/epoch - 102ms/step\n",
            "Epoch 152/500\n",
            "38/38 - 4s - loss: 0.3041 - accuracy: 0.8633 - val_loss: 0.3690 - val_accuracy: 0.9200 - 4s/epoch - 105ms/step\n",
            "Epoch 153/500\n",
            "38/38 - 4s - loss: 0.3193 - accuracy: 0.8633 - val_loss: 0.4125 - val_accuracy: 0.8267 - 4s/epoch - 97ms/step\n",
            "Epoch 154/500\n",
            "38/38 - 4s - loss: 0.2742 - accuracy: 0.8767 - val_loss: 0.5056 - val_accuracy: 0.8533 - 4s/epoch - 111ms/step\n",
            "Epoch 155/500\n",
            "38/38 - 4s - loss: 0.2700 - accuracy: 0.8833 - val_loss: 0.3458 - val_accuracy: 0.8400 - 4s/epoch - 105ms/step\n",
            "Epoch 156/500\n",
            "\n",
            "PELATIHAN BERHENTI, AKURASI MODEL SUDAH LEBIH DARI 90%!\n",
            "38/38 - 4s - loss: 0.2417 - accuracy: 0.9033 - val_loss: 0.3415 - val_accuracy: 0.9067 - 4s/epoch - 95ms/step\n"
          ]
        }
      ]
    },
    {
      "cell_type": "markdown",
      "source": [
        "4.1 Evaluasi"
      ],
      "metadata": {
        "id": "63va_YKyXUng"
      }
    },
    {
      "cell_type": "code",
      "source": [
        "test_loss, test_acc = model.evaluate(validation_generator, verbose=2)\n",
        "print('Test loss:', test_loss)\n",
        "print('Test accuracy:', test_acc)"
      ],
      "metadata": {
        "id": "DMxeQs1hrWM4",
        "colab": {
          "base_uri": "https://localhost:8080/"
        },
        "outputId": "21ee365b-b825-4799-cbc4-d584408cb7bb"
      },
      "execution_count": null,
      "outputs": [
        {
          "output_type": "stream",
          "name": "stdout",
          "text": [
            "5/5 - 1s - loss: 0.3403 - accuracy: 0.9067 - 683ms/epoch - 137ms/step\n",
            "Test loss: 0.34034186601638794\n",
            "Test accuracy: 0.9066666960716248\n"
          ]
        }
      ]
    },
    {
      "cell_type": "markdown",
      "source": [
        "# 5. Save model"
      ],
      "metadata": {
        "id": "MG1HcS9asllC"
      }
    },
    {
      "cell_type": "code",
      "source": [
        "# TF JS\n",
        "model.save('color_detection_model.h5')\n",
        "\n",
        "# TF Lite\n",
        "converter = tf.lite.TFLiteConverter.from_keras_model(model)\n",
        "tflite_model = converter.convert()\n",
        "\n",
        "with tf.io.gfile.GFile('color_detection_model.tflite', 'wb') as f:\n",
        "  f.write(tflite_model)\n",
        "\n",
        "print(\"Model telah disimpan.\")"
      ],
      "metadata": {
        "id": "fYnmFgTospwI",
        "colab": {
          "base_uri": "https://localhost:8080/"
        },
        "outputId": "8d3d37bb-653b-4cd2-8ade-7e60a9b89c82"
      },
      "execution_count": null,
      "outputs": [
        {
          "output_type": "stream",
          "name": "stderr",
          "text": [
            "WARNING:absl:Found untraced functions such as _jit_compiled_convolution_op, _jit_compiled_convolution_op, _jit_compiled_convolution_op while saving (showing 3 of 3). These functions will not be directly callable after loading.\n"
          ]
        },
        {
          "output_type": "stream",
          "name": "stdout",
          "text": [
            "Model telah disimpan.\n"
          ]
        }
      ]
    },
    {
      "cell_type": "markdown",
      "source": [
        "# Percobaan color detection"
      ],
      "metadata": {
        "id": "N0WTNzubtN6t"
      }
    },
    {
      "cell_type": "code",
      "source": [
        "!pip install gradio\n",
        "import gradio as gr\n",
        "import numpy as np\n",
        "from numpy import asarray\n",
        "from datetime import datetime\n",
        "import pandas as pd"
      ],
      "metadata": {
        "id": "6lr3KLQt8V34",
        "colab": {
          "base_uri": "https://localhost:8080/"
        },
        "outputId": "c079e090-7bea-43ec-ba2e-8f71112b664d"
      },
      "execution_count": null,
      "outputs": [
        {
          "output_type": "stream",
          "name": "stdout",
          "text": [
            "Looking in indexes: https://pypi.org/simple, https://us-python.pkg.dev/colab-wheels/public/simple/\n",
            "Collecting gradio\n",
            "  Downloading gradio-3.31.0-py3-none-any.whl (17.4 MB)\n",
            "\u001b[2K     \u001b[90m━━━━━━━━━━━━━━━━━━━━━━━━━━━━━━━━━━━━━━━━\u001b[0m \u001b[32m17.4/17.4 MB\u001b[0m \u001b[31m62.7 MB/s\u001b[0m eta \u001b[36m0:00:00\u001b[0m\n",
            "\u001b[?25hCollecting aiofiles (from gradio)\n",
            "  Downloading aiofiles-23.1.0-py3-none-any.whl (14 kB)\n",
            "Collecting aiohttp (from gradio)\n",
            "  Downloading aiohttp-3.8.4-cp310-cp310-manylinux_2_17_x86_64.manylinux2014_x86_64.whl (1.0 MB)\n",
            "\u001b[2K     \u001b[90m━━━━━━━━━━━━━━━━━━━━━━━━━━━━━━━━━━━━━━━━\u001b[0m \u001b[32m1.0/1.0 MB\u001b[0m \u001b[31m54.9 MB/s\u001b[0m eta \u001b[36m0:00:00\u001b[0m\n",
            "\u001b[?25hRequirement already satisfied: altair>=4.2.0 in /usr/local/lib/python3.10/dist-packages (from gradio) (4.2.2)\n",
            "Collecting fastapi (from gradio)\n",
            "  Downloading fastapi-0.95.2-py3-none-any.whl (56 kB)\n",
            "\u001b[2K     \u001b[90m━━━━━━━━━━━━━━━━━━━━━━━━━━━━━━━━━━━━━━━━\u001b[0m \u001b[32m57.0/57.0 kB\u001b[0m \u001b[31m8.3 MB/s\u001b[0m eta \u001b[36m0:00:00\u001b[0m\n",
            "\u001b[?25hCollecting ffmpy (from gradio)\n",
            "  Downloading ffmpy-0.3.0.tar.gz (4.8 kB)\n",
            "  Preparing metadata (setup.py) ... \u001b[?25l\u001b[?25hdone\n",
            "Collecting gradio-client>=0.2.4 (from gradio)\n",
            "  Downloading gradio_client-0.2.5-py3-none-any.whl (288 kB)\n",
            "\u001b[2K     \u001b[90m━━━━━━━━━━━━━━━━━━━━━━━━━━━━━━━━━━━━━━\u001b[0m \u001b[32m288.1/288.1 kB\u001b[0m \u001b[31m35.6 MB/s\u001b[0m eta \u001b[36m0:00:00\u001b[0m\n",
            "\u001b[?25hCollecting httpx (from gradio)\n",
            "  Downloading httpx-0.24.0-py3-none-any.whl (75 kB)\n",
            "\u001b[2K     \u001b[90m━━━━━━━━━━━━━━━━━━━━━━━━━━━━━━━━━━━━━━━━\u001b[0m \u001b[32m75.3/75.3 kB\u001b[0m \u001b[31m10.1 MB/s\u001b[0m eta \u001b[36m0:00:00\u001b[0m\n",
            "\u001b[?25hCollecting huggingface-hub>=0.13.0 (from gradio)\n",
            "  Downloading huggingface_hub-0.14.1-py3-none-any.whl (224 kB)\n",
            "\u001b[2K     \u001b[90m━━━━━━━━━━━━━━━━━━━━━━━━━━━━━━━━━━━━━━\u001b[0m \u001b[32m224.5/224.5 kB\u001b[0m \u001b[31m29.2 MB/s\u001b[0m eta \u001b[36m0:00:00\u001b[0m\n",
            "\u001b[?25hRequirement already satisfied: jinja2 in /usr/local/lib/python3.10/dist-packages (from gradio) (3.1.2)\n",
            "Requirement already satisfied: markdown-it-py[linkify]>=2.0.0 in /usr/local/lib/python3.10/dist-packages (from gradio) (2.2.0)\n",
            "Requirement already satisfied: markupsafe in /usr/local/lib/python3.10/dist-packages (from gradio) (2.1.2)\n",
            "Requirement already satisfied: matplotlib in /usr/local/lib/python3.10/dist-packages (from gradio) (3.7.1)\n",
            "Collecting mdit-py-plugins<=0.3.3 (from gradio)\n",
            "  Downloading mdit_py_plugins-0.3.3-py3-none-any.whl (50 kB)\n",
            "\u001b[2K     \u001b[90m━━━━━━━━━━━━━━━━━━━━━━━━━━━━━━━━━━━━━━━━\u001b[0m \u001b[32m50.5/50.5 kB\u001b[0m \u001b[31m7.0 MB/s\u001b[0m eta \u001b[36m0:00:00\u001b[0m\n",
            "\u001b[?25hRequirement already satisfied: numpy in /usr/local/lib/python3.10/dist-packages (from gradio) (1.22.4)\n",
            "Collecting orjson (from gradio)\n",
            "  Downloading orjson-3.8.12-cp310-cp310-manylinux_2_17_x86_64.manylinux2014_x86_64.whl (137 kB)\n",
            "\u001b[2K     \u001b[90m━━━━━━━━━━━━━━━━━━━━━━━━━━━━━━━━━━━━━━━\u001b[0m \u001b[32m137.2/137.2 kB\u001b[0m \u001b[31m2.6 MB/s\u001b[0m eta \u001b[36m0:00:00\u001b[0m\n",
            "\u001b[?25hRequirement already satisfied: pandas in /usr/local/lib/python3.10/dist-packages (from gradio) (1.5.3)\n",
            "Requirement already satisfied: pillow in /usr/local/lib/python3.10/dist-packages (from gradio) (8.4.0)\n",
            "Requirement already satisfied: pydantic in /usr/local/lib/python3.10/dist-packages (from gradio) (1.10.7)\n",
            "Collecting pydub (from gradio)\n",
            "  Downloading pydub-0.25.1-py2.py3-none-any.whl (32 kB)\n",
            "Requirement already satisfied: pygments>=2.12.0 in /usr/local/lib/python3.10/dist-packages (from gradio) (2.14.0)\n",
            "Collecting python-multipart (from gradio)\n",
            "  Downloading python_multipart-0.0.6-py3-none-any.whl (45 kB)\n",
            "\u001b[2K     \u001b[90m━━━━━━━━━━━━━━━━━━━━━━━━━━━━━━━━━━━━━━━━\u001b[0m \u001b[32m45.7/45.7 kB\u001b[0m \u001b[31m6.8 MB/s\u001b[0m eta \u001b[36m0:00:00\u001b[0m\n",
            "\u001b[?25hRequirement already satisfied: pyyaml in /usr/local/lib/python3.10/dist-packages (from gradio) (6.0)\n",
            "Requirement already satisfied: requests in /usr/local/lib/python3.10/dist-packages (from gradio) (2.27.1)\n",
            "Collecting semantic-version (from gradio)\n",
            "  Downloading semantic_version-2.10.0-py2.py3-none-any.whl (15 kB)\n",
            "Requirement already satisfied: typing-extensions in /usr/local/lib/python3.10/dist-packages (from gradio) (4.5.0)\n",
            "Collecting uvicorn>=0.14.0 (from gradio)\n",
            "  Downloading uvicorn-0.22.0-py3-none-any.whl (58 kB)\n",
            "\u001b[2K     \u001b[90m━━━━━━━━━━━━━━━━━━━━━━━━━━━━━━━━━━━━━━━━\u001b[0m \u001b[32m58.3/58.3 kB\u001b[0m \u001b[31m8.9 MB/s\u001b[0m eta \u001b[36m0:00:00\u001b[0m\n",
            "\u001b[?25hCollecting websockets>=10.0 (from gradio)\n",
            "  Downloading websockets-11.0.3-cp310-cp310-manylinux_2_5_x86_64.manylinux1_x86_64.manylinux_2_17_x86_64.manylinux2014_x86_64.whl (129 kB)\n",
            "\u001b[2K     \u001b[90m━━━━━━━━━━━━━━━━━━━━━━━━━━━━━━━━━━━━━━\u001b[0m \u001b[32m129.9/129.9 kB\u001b[0m \u001b[31m18.1 MB/s\u001b[0m eta \u001b[36m0:00:00\u001b[0m\n",
            "\u001b[?25hRequirement already satisfied: entrypoints in /usr/local/lib/python3.10/dist-packages (from altair>=4.2.0->gradio) (0.4)\n",
            "Requirement already satisfied: jsonschema>=3.0 in /usr/local/lib/python3.10/dist-packages (from altair>=4.2.0->gradio) (4.3.3)\n",
            "Requirement already satisfied: toolz in /usr/local/lib/python3.10/dist-packages (from altair>=4.2.0->gradio) (0.12.0)\n",
            "Requirement already satisfied: fsspec in /usr/local/lib/python3.10/dist-packages (from gradio-client>=0.2.4->gradio) (2023.4.0)\n",
            "Requirement already satisfied: packaging in /usr/local/lib/python3.10/dist-packages (from gradio-client>=0.2.4->gradio) (23.1)\n",
            "Requirement already satisfied: filelock in /usr/local/lib/python3.10/dist-packages (from huggingface-hub>=0.13.0->gradio) (3.12.0)\n",
            "Requirement already satisfied: tqdm>=4.42.1 in /usr/local/lib/python3.10/dist-packages (from huggingface-hub>=0.13.0->gradio) (4.65.0)\n",
            "Requirement already satisfied: mdurl~=0.1 in /usr/local/lib/python3.10/dist-packages (from markdown-it-py[linkify]>=2.0.0->gradio) (0.1.2)\n",
            "Collecting linkify-it-py<3,>=1 (from markdown-it-py[linkify]>=2.0.0->gradio)\n",
            "  Downloading linkify_it_py-2.0.2-py3-none-any.whl (19 kB)\n",
            "Requirement already satisfied: python-dateutil>=2.8.1 in /usr/local/lib/python3.10/dist-packages (from pandas->gradio) (2.8.2)\n",
            "Requirement already satisfied: pytz>=2020.1 in /usr/local/lib/python3.10/dist-packages (from pandas->gradio) (2022.7.1)\n",
            "Requirement already satisfied: click>=7.0 in /usr/local/lib/python3.10/dist-packages (from uvicorn>=0.14.0->gradio) (8.1.3)\n",
            "Collecting h11>=0.8 (from uvicorn>=0.14.0->gradio)\n",
            "  Downloading h11-0.14.0-py3-none-any.whl (58 kB)\n",
            "\u001b[2K     \u001b[90m━━━━━━━━━━━━━━━━━━━━━━━━━━━━━━━━━━━━━━━━\u001b[0m \u001b[32m58.3/58.3 kB\u001b[0m \u001b[31m8.8 MB/s\u001b[0m eta \u001b[36m0:00:00\u001b[0m\n",
            "\u001b[?25hRequirement already satisfied: attrs>=17.3.0 in /usr/local/lib/python3.10/dist-packages (from aiohttp->gradio) (23.1.0)\n",
            "Requirement already satisfied: charset-normalizer<4.0,>=2.0 in /usr/local/lib/python3.10/dist-packages (from aiohttp->gradio) (2.0.12)\n",
            "Collecting multidict<7.0,>=4.5 (from aiohttp->gradio)\n",
            "  Downloading multidict-6.0.4-cp310-cp310-manylinux_2_17_x86_64.manylinux2014_x86_64.whl (114 kB)\n",
            "\u001b[2K     \u001b[90m━━━━━━━━━━━━━━━━━━━━━━━━━━━━━━━━━━━━━━\u001b[0m \u001b[32m114.5/114.5 kB\u001b[0m \u001b[31m17.4 MB/s\u001b[0m eta \u001b[36m0:00:00\u001b[0m\n",
            "\u001b[?25hCollecting async-timeout<5.0,>=4.0.0a3 (from aiohttp->gradio)\n",
            "  Downloading async_timeout-4.0.2-py3-none-any.whl (5.8 kB)\n",
            "Collecting yarl<2.0,>=1.0 (from aiohttp->gradio)\n",
            "  Downloading yarl-1.9.2-cp310-cp310-manylinux_2_17_x86_64.manylinux2014_x86_64.whl (268 kB)\n",
            "\u001b[2K     \u001b[90m━━━━━━━━━━━━━━━━━━━━━━━━━━━━━━━━━━━━━━\u001b[0m \u001b[32m268.8/268.8 kB\u001b[0m \u001b[31m33.4 MB/s\u001b[0m eta \u001b[36m0:00:00\u001b[0m\n",
            "\u001b[?25hCollecting frozenlist>=1.1.1 (from aiohttp->gradio)\n",
            "  Downloading frozenlist-1.3.3-cp310-cp310-manylinux_2_5_x86_64.manylinux1_x86_64.manylinux_2_17_x86_64.manylinux2014_x86_64.whl (149 kB)\n",
            "\u001b[2K     \u001b[90m━━━━━━━━━━━━━━━━━━━━━━━━━━━━━━━━━━━━━━\u001b[0m \u001b[32m149.6/149.6 kB\u001b[0m \u001b[31m20.2 MB/s\u001b[0m eta \u001b[36m0:00:00\u001b[0m\n",
            "\u001b[?25hCollecting aiosignal>=1.1.2 (from aiohttp->gradio)\n",
            "  Downloading aiosignal-1.3.1-py3-none-any.whl (7.6 kB)\n",
            "Collecting starlette<0.28.0,>=0.27.0 (from fastapi->gradio)\n",
            "  Downloading starlette-0.27.0-py3-none-any.whl (66 kB)\n",
            "\u001b[2K     \u001b[90m━━━━━━━━━━━━━━━━━━━━━━━━━━━━━━━━━━━━━━━━\u001b[0m \u001b[32m67.0/67.0 kB\u001b[0m \u001b[31m9.8 MB/s\u001b[0m eta \u001b[36m0:00:00\u001b[0m\n",
            "\u001b[?25hRequirement already satisfied: certifi in /usr/local/lib/python3.10/dist-packages (from httpx->gradio) (2022.12.7)\n",
            "Collecting httpcore<0.18.0,>=0.15.0 (from httpx->gradio)\n",
            "  Downloading httpcore-0.17.1-py3-none-any.whl (70 kB)\n",
            "\u001b[2K     \u001b[90m━━━━━━━━━━━━━━━━━━━━━━━━━━━━━━━━━━━━━━━━\u001b[0m \u001b[32m70.9/70.9 kB\u001b[0m \u001b[31m10.1 MB/s\u001b[0m eta \u001b[36m0:00:00\u001b[0m\n",
            "\u001b[?25hRequirement already satisfied: idna in /usr/local/lib/python3.10/dist-packages (from httpx->gradio) (3.4)\n",
            "Requirement already satisfied: sniffio in /usr/local/lib/python3.10/dist-packages (from httpx->gradio) (1.3.0)\n",
            "Requirement already satisfied: contourpy>=1.0.1 in /usr/local/lib/python3.10/dist-packages (from matplotlib->gradio) (1.0.7)\n",
            "Requirement already satisfied: cycler>=0.10 in /usr/local/lib/python3.10/dist-packages (from matplotlib->gradio) (0.11.0)\n",
            "Requirement already satisfied: fonttools>=4.22.0 in /usr/local/lib/python3.10/dist-packages (from matplotlib->gradio) (4.39.3)\n",
            "Requirement already satisfied: kiwisolver>=1.0.1 in /usr/local/lib/python3.10/dist-packages (from matplotlib->gradio) (1.4.4)\n",
            "Requirement already satisfied: pyparsing>=2.3.1 in /usr/local/lib/python3.10/dist-packages (from matplotlib->gradio) (3.0.9)\n",
            "Requirement already satisfied: urllib3<1.27,>=1.21.1 in /usr/local/lib/python3.10/dist-packages (from requests->gradio) (1.26.15)\n",
            "Requirement already satisfied: anyio<5.0,>=3.0 in /usr/local/lib/python3.10/dist-packages (from httpcore<0.18.0,>=0.15.0->httpx->gradio) (3.6.2)\n",
            "Requirement already satisfied: pyrsistent!=0.17.0,!=0.17.1,!=0.17.2,>=0.14.0 in /usr/local/lib/python3.10/dist-packages (from jsonschema>=3.0->altair>=4.2.0->gradio) (0.19.3)\n",
            "Collecting uc-micro-py (from linkify-it-py<3,>=1->markdown-it-py[linkify]>=2.0.0->gradio)\n",
            "  Downloading uc_micro_py-1.0.2-py3-none-any.whl (6.2 kB)\n",
            "Requirement already satisfied: six>=1.5 in /usr/local/lib/python3.10/dist-packages (from python-dateutil>=2.8.1->pandas->gradio) (1.16.0)\n",
            "Building wheels for collected packages: ffmpy\n",
            "  Building wheel for ffmpy (setup.py) ... \u001b[?25l\u001b[?25hdone\n",
            "  Created wheel for ffmpy: filename=ffmpy-0.3.0-py3-none-any.whl size=4694 sha256=f9fb70db6dcd29b849973da3989f35f3431fda28aae3f75125e37ed866f38fef\n",
            "  Stored in directory: /root/.cache/pip/wheels/0c/c2/0e/3b9c6845c6a4e35beb90910cc70d9ac9ab5d47402bd62af0df\n",
            "Successfully built ffmpy\n",
            "Installing collected packages: pydub, ffmpy, websockets, uc-micro-py, semantic-version, python-multipart, orjson, multidict, h11, frozenlist, async-timeout, aiofiles, yarl, uvicorn, starlette, mdit-py-plugins, linkify-it-py, huggingface-hub, httpcore, aiosignal, httpx, fastapi, aiohttp, gradio-client, gradio\n",
            "Successfully installed aiofiles-23.1.0 aiohttp-3.8.4 aiosignal-1.3.1 async-timeout-4.0.2 fastapi-0.95.2 ffmpy-0.3.0 frozenlist-1.3.3 gradio-3.31.0 gradio-client-0.2.5 h11-0.14.0 httpcore-0.17.1 httpx-0.24.0 huggingface-hub-0.14.1 linkify-it-py-2.0.2 mdit-py-plugins-0.3.3 multidict-6.0.4 orjson-3.8.12 pydub-0.25.1 python-multipart-0.0.6 semantic-version-2.10.0 starlette-0.27.0 uc-micro-py-1.0.2 uvicorn-0.22.0 websockets-11.0.3 yarl-1.9.2\n"
          ]
        }
      ]
    },
    {
      "cell_type": "code",
      "source": [
        "model = tf.keras.models.load_model(\"/content/drive/MyDrive/Dataset/color_detection_model.h5\")\n",
        "# model = tf.keras.models.load_model(\"/content/drive/MyDrive/Dataset/color_detection_model.hdf5\")\n",
        "\n",
        "def image_predict(img):\n",
        "    \"\"\"\n",
        "    Displays dominant colors beyond a given threshold.\n",
        "    img : image input, for ex 'blue-car.jpg'\n",
        "    isize: input image size, for ex. 227\n",
        "    thr: chosen threshold value\n",
        "    \"\"\"\n",
        "    thr=0\n",
        "    global model\n",
        "    if model is None:\n",
        "        model = tf.keras.models.load_model(\"/content/drive/MyDrive/Dataset/color_detection_model.h5\")\n",
        "        # model = tf.keras.models.load_model(\"/content/drive/MyDrive/Dataset/color_detection_model.hdf5\")\n",
        "        \n",
        "    data = np.asarray(img)\n",
        "        \n",
        "    ndata = np.expand_dims(data, axis=0)\n",
        "    y_prob = model.predict(ndata/255)\n",
        "    #y_prob.argmax(axis=-1)\n",
        "    \n",
        "    now = datetime.now()\n",
        "    print(\"--------\")\n",
        "    print(\"data and time: \", now)\n",
        "            \n",
        "    colorlabels = ['beige', 'black', 'blue', 'brown', 'gold', 'green', 'grey', 'orange', 'pink', 'purple', 'red', 'silver', 'tan', 'white', 'yellow']\n",
        "    coltags = [sorted(colorlabels)[i] for i in np.where(np.ravel(y_prob)>thr)[0]]\n",
        "    colprob = [np.ravel(y_prob)[i] for i in list(np.where(np.ravel(y_prob)>thr)[0])]\n",
        "    \n",
        "    if len(coltags) > 0:\n",
        "        response = []\n",
        "        for i,j in zip(coltags, colprob):\n",
        "            #print(i,j)\n",
        "            resp = {}\n",
        "            resp[i] = float(j)\n",
        "            response.append(resp)\n",
        "        d = dict(map(dict.popitem, response))\n",
        "        print('colors: ', d)\n",
        "               \n",
        "        return dict(d)\n",
        "\n",
        "    else:\n",
        "        return str('No label was found')"
      ],
      "metadata": {
        "id": "hZ6RkMRm8bpJ"
      },
      "execution_count": null,
      "outputs": []
    },
    {
      "cell_type": "code",
      "source": [
        "iface = gr.Interface(\n",
        "    title = \"Color Image Detecting\",\n",
        "    description = \"App classifying objects on different colors\",\n",
        "    article = \"<p style='text-align: center'><a href='https://www.rrighart.com' target='_blank'>Webpage</a></p>\",\n",
        "    fn=image_predict,\n",
        "    inputs=gr.Image(shape=(150,150)), \n",
        "    outputs=gr.Label(),\n",
        "    enable_queue=True,\n",
        "    interpretation=\"default\",\n",
        "    debug=True\n",
        "    )\n",
        "iface.launch()"
      ],
      "metadata": {
        "colab": {
          "base_uri": "https://localhost:8080/",
          "height": 706
        },
        "id": "gphxFuAa8vNu",
        "outputId": "b5f47cbb-b939-49dc-9d43-1bd34c3c87a2"
      },
      "execution_count": null,
      "outputs": [
        {
          "output_type": "stream",
          "name": "stderr",
          "text": [
            "<ipython-input-21-fb1a86752e09>:1: UserWarning: `enable_queue` is deprecated in `Interface()`, please use it within `launch()` instead.\n",
            "  iface = gr.Interface(\n",
            "<ipython-input-21-fb1a86752e09>:1: UserWarning: You have unused kwarg parameters in Interface, please remove them: {'debug': True}\n",
            "  iface = gr.Interface(\n"
          ]
        },
        {
          "output_type": "stream",
          "name": "stdout",
          "text": [
            "Colab notebook detected. To show errors in colab notebook, set debug=True in launch()\n",
            "Note: opening Chrome Inspector may crash demo inside Colab notebooks.\n",
            "\n",
            "To create a public link, set `share=True` in `launch()`.\n"
          ]
        },
        {
          "output_type": "display_data",
          "data": {
            "text/plain": [
              "<IPython.core.display.Javascript object>"
            ],
            "application/javascript": [
              "(async (port, path, width, height, cache, element) => {\n",
              "                        if (!google.colab.kernel.accessAllowed && !cache) {\n",
              "                            return;\n",
              "                        }\n",
              "                        element.appendChild(document.createTextNode(''));\n",
              "                        const url = await google.colab.kernel.proxyPort(port, {cache});\n",
              "\n",
              "                        const external_link = document.createElement('div');\n",
              "                        external_link.innerHTML = `\n",
              "                            <div style=\"font-family: monospace; margin-bottom: 0.5rem\">\n",
              "                                Running on <a href=${new URL(path, url).toString()} target=\"_blank\">\n",
              "                                    https://localhost:${port}${path}\n",
              "                                </a>\n",
              "                            </div>\n",
              "                        `;\n",
              "                        element.appendChild(external_link);\n",
              "\n",
              "                        const iframe = document.createElement('iframe');\n",
              "                        iframe.src = new URL(path, url).toString();\n",
              "                        iframe.height = height;\n",
              "                        iframe.allow = \"autoplay; camera; microphone; clipboard-read; clipboard-write;\"\n",
              "                        iframe.width = width;\n",
              "                        iframe.style.border = 0;\n",
              "                        element.appendChild(iframe);\n",
              "                    })(7862, \"/\", \"100%\", 500, false, window.element)"
            ]
          },
          "metadata": {}
        },
        {
          "output_type": "execute_result",
          "data": {
            "text/plain": []
          },
          "metadata": {},
          "execution_count": 21
        }
      ]
    },
    {
      "cell_type": "code",
      "source": [
        "model = tf.keras.models.load_model('/content/drive/MyDrive/Dataset/color_detection_model.hdf5')\n",
        "converter = tf.lite.TFLiteConverter.from_keras_model(model)\n",
        "tflmodel = converter.convert()\n",
        "file = open( 'color_detection_model2.tflite' , 'wb' ) \n",
        "file.write( tflmodel )"
      ],
      "metadata": {
        "id": "pE-FIZrzx_0M",
        "colab": {
          "base_uri": "https://localhost:8080/"
        },
        "outputId": "759fca0d-b3c5-441f-d0ce-15e5344a38b0"
      },
      "execution_count": null,
      "outputs": [
        {
          "output_type": "stream",
          "name": "stderr",
          "text": [
            "WARNING:absl:Found untraced functions such as _jit_compiled_convolution_op, _jit_compiled_convolution_op, _jit_compiled_convolution_op, _jit_compiled_convolution_op, _jit_compiled_convolution_op while saving (showing 5 of 5). These functions will not be directly callable after loading.\n"
          ]
        },
        {
          "output_type": "execute_result",
          "data": {
            "text/plain": [
              "233390768"
            ]
          },
          "metadata": {},
          "execution_count": 17
        }
      ]
    }
  ]
}